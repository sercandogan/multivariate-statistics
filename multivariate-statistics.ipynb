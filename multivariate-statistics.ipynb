{
 "cells": [
  {
   "cell_type": "markdown",
   "metadata": {},
   "source": [
    "# Çok Değişkenli İstatistik Dersi Projesi\n",
    "\n",
    "Ders içeriğinde geçen teorik kısmın pratiğe dökülmesi adına böyle bir çalışma yapılmıştır.\n",
    "\n",
    "Veri seti Türkiyenin 2008-2017 arasındaki Hava Kalitesi verisidir. Aşağıdaki github klasöründen (repo) alınmıştır.\n",
    "https://github.com/olgnaydn/airqualitr\n",
    "\n",
    "Öncelikle verinin boyutu büyük olduğu için değişkenlerin aylık ortalama değerleri çıkarılacaktır. Ve yalnızca 4 İl (İstanbul, Ankara, İzmir, Antalya) analiz için seçilmiştir."
   ]
  },
  {
   "cell_type": "code",
   "execution_count": 78,
   "metadata": {},
   "outputs": [],
   "source": [
    "import numpy as np\n",
    "import pandas as pd\n",
    "from datetime import datetime\n",
    "np.set_printoptions(suppress=True)"
   ]
  },
  {
   "cell_type": "markdown",
   "metadata": {},
   "source": [
    "##### Veri Seti"
   ]
  },
  {
   "cell_type": "code",
   "execution_count": 2,
   "metadata": {},
   "outputs": [],
   "source": [
    "df = pd.read_csv(\"airquality_data.csv\") "
   ]
  },
  {
   "cell_type": "code",
   "execution_count": 3,
   "metadata": {},
   "outputs": [
    {
     "data": {
      "text/plain": [
       "(10469286, 29)"
      ]
     },
     "execution_count": 3,
     "metadata": {},
     "output_type": "execute_result"
    }
   ],
   "source": [
    "df.shape"
   ]
  },
  {
   "cell_type": "markdown",
   "metadata": {},
   "source": [
    "Yukarıda gördüğümüz gibi verinin gerçek halinde `10469286` gözlem ve `29` değişken bulunmaktadır."
   ]
  },
  {
   "cell_type": "code",
   "execution_count": 4,
   "metadata": {},
   "outputs": [
    {
     "data": {
      "text/html": [
       "<div>\n",
       "<style scoped>\n",
       "    .dataframe tbody tr th:only-of-type {\n",
       "        vertical-align: middle;\n",
       "    }\n",
       "\n",
       "    .dataframe tbody tr th {\n",
       "        vertical-align: top;\n",
       "    }\n",
       "\n",
       "    .dataframe thead th {\n",
       "        text-align: right;\n",
       "    }\n",
       "</style>\n",
       "<table border=\"1\" class=\"dataframe\">\n",
       "  <thead>\n",
       "    <tr style=\"text-align: right;\">\n",
       "      <th></th>\n",
       "      <th>Unnamed: 0</th>\n",
       "      <th>Mevki</th>\n",
       "      <th>Tarih</th>\n",
       "      <th>PM10</th>\n",
       "      <th>CO</th>\n",
       "      <th>NO</th>\n",
       "      <th>NO2</th>\n",
       "      <th>NOX</th>\n",
       "      <th>O3</th>\n",
       "      <th>PM2.5</th>\n",
       "      <th>...</th>\n",
       "      <th>Nem</th>\n",
       "      <th>Yagmur</th>\n",
       "      <th>o..Ksilen</th>\n",
       "      <th>p..Ksilen</th>\n",
       "      <th>PM10.debi</th>\n",
       "      <th>PM2.5.debi</th>\n",
       "      <th>Sample_Flow</th>\n",
       "      <th>Toluen</th>\n",
       "      <th>long</th>\n",
       "      <th>lat</th>\n",
       "    </tr>\n",
       "  </thead>\n",
       "  <tbody>\n",
       "    <tr>\n",
       "      <th>0</th>\n",
       "      <td>1</td>\n",
       "      <td>ADANA CATALAN</td>\n",
       "      <td>16.12.2008 00:00</td>\n",
       "      <td>24.0</td>\n",
       "      <td>NaN</td>\n",
       "      <td>0.0</td>\n",
       "      <td>5.0</td>\n",
       "      <td>NaN</td>\n",
       "      <td>32.0</td>\n",
       "      <td>NaN</td>\n",
       "      <td>...</td>\n",
       "      <td>NaN</td>\n",
       "      <td>NaN</td>\n",
       "      <td>NaN</td>\n",
       "      <td>NaN</td>\n",
       "      <td>NaN</td>\n",
       "      <td>NaN</td>\n",
       "      <td>NaN</td>\n",
       "      <td>NaN</td>\n",
       "      <td>35.290451</td>\n",
       "      <td>37.21336</td>\n",
       "    </tr>\n",
       "    <tr>\n",
       "      <th>1</th>\n",
       "      <td>2</td>\n",
       "      <td>ADANA CATALAN</td>\n",
       "      <td>16.12.2008 01:00</td>\n",
       "      <td>21.0</td>\n",
       "      <td>NaN</td>\n",
       "      <td>0.0</td>\n",
       "      <td>4.0</td>\n",
       "      <td>NaN</td>\n",
       "      <td>36.0</td>\n",
       "      <td>NaN</td>\n",
       "      <td>...</td>\n",
       "      <td>NaN</td>\n",
       "      <td>NaN</td>\n",
       "      <td>NaN</td>\n",
       "      <td>NaN</td>\n",
       "      <td>NaN</td>\n",
       "      <td>NaN</td>\n",
       "      <td>NaN</td>\n",
       "      <td>NaN</td>\n",
       "      <td>35.290451</td>\n",
       "      <td>37.21336</td>\n",
       "    </tr>\n",
       "    <tr>\n",
       "      <th>2</th>\n",
       "      <td>3</td>\n",
       "      <td>ADANA CATALAN</td>\n",
       "      <td>16.12.2008 02:00</td>\n",
       "      <td>14.0</td>\n",
       "      <td>NaN</td>\n",
       "      <td>0.0</td>\n",
       "      <td>3.0</td>\n",
       "      <td>NaN</td>\n",
       "      <td>38.0</td>\n",
       "      <td>NaN</td>\n",
       "      <td>...</td>\n",
       "      <td>NaN</td>\n",
       "      <td>NaN</td>\n",
       "      <td>NaN</td>\n",
       "      <td>NaN</td>\n",
       "      <td>NaN</td>\n",
       "      <td>NaN</td>\n",
       "      <td>NaN</td>\n",
       "      <td>NaN</td>\n",
       "      <td>35.290451</td>\n",
       "      <td>37.21336</td>\n",
       "    </tr>\n",
       "    <tr>\n",
       "      <th>3</th>\n",
       "      <td>4</td>\n",
       "      <td>ADANA CATALAN</td>\n",
       "      <td>16.12.2008 03:00</td>\n",
       "      <td>18.0</td>\n",
       "      <td>NaN</td>\n",
       "      <td>0.0</td>\n",
       "      <td>3.0</td>\n",
       "      <td>NaN</td>\n",
       "      <td>33.0</td>\n",
       "      <td>NaN</td>\n",
       "      <td>...</td>\n",
       "      <td>NaN</td>\n",
       "      <td>NaN</td>\n",
       "      <td>NaN</td>\n",
       "      <td>NaN</td>\n",
       "      <td>NaN</td>\n",
       "      <td>NaN</td>\n",
       "      <td>NaN</td>\n",
       "      <td>NaN</td>\n",
       "      <td>35.290451</td>\n",
       "      <td>37.21336</td>\n",
       "    </tr>\n",
       "    <tr>\n",
       "      <th>4</th>\n",
       "      <td>5</td>\n",
       "      <td>ADANA CATALAN</td>\n",
       "      <td>16.12.2008 04:00</td>\n",
       "      <td>15.0</td>\n",
       "      <td>NaN</td>\n",
       "      <td>0.0</td>\n",
       "      <td>2.0</td>\n",
       "      <td>NaN</td>\n",
       "      <td>33.0</td>\n",
       "      <td>NaN</td>\n",
       "      <td>...</td>\n",
       "      <td>NaN</td>\n",
       "      <td>NaN</td>\n",
       "      <td>NaN</td>\n",
       "      <td>NaN</td>\n",
       "      <td>NaN</td>\n",
       "      <td>NaN</td>\n",
       "      <td>NaN</td>\n",
       "      <td>NaN</td>\n",
       "      <td>35.290451</td>\n",
       "      <td>37.21336</td>\n",
       "    </tr>\n",
       "  </tbody>\n",
       "</table>\n",
       "<p>5 rows × 29 columns</p>\n",
       "</div>"
      ],
      "text/plain": [
       "   Unnamed: 0          Mevki                        Tarih  PM10  CO   NO  NO2  \\\n",
       "0           1  ADANA CATALAN   16.12.2008 00:00            24.0 NaN  0.0  5.0   \n",
       "1           2  ADANA CATALAN   16.12.2008 01:00            21.0 NaN  0.0  4.0   \n",
       "2           3  ADANA CATALAN   16.12.2008 02:00            14.0 NaN  0.0  3.0   \n",
       "3           4  ADANA CATALAN   16.12.2008 03:00            18.0 NaN  0.0  3.0   \n",
       "4           5  ADANA CATALAN   16.12.2008 04:00            15.0 NaN  0.0  2.0   \n",
       "\n",
       "   NOX    O3  PM2.5    ...     Nem  Yagmur  o..Ksilen  p..Ksilen  PM10.debi  \\\n",
       "0  NaN  32.0    NaN    ...     NaN     NaN        NaN        NaN        NaN   \n",
       "1  NaN  36.0    NaN    ...     NaN     NaN        NaN        NaN        NaN   \n",
       "2  NaN  38.0    NaN    ...     NaN     NaN        NaN        NaN        NaN   \n",
       "3  NaN  33.0    NaN    ...     NaN     NaN        NaN        NaN        NaN   \n",
       "4  NaN  33.0    NaN    ...     NaN     NaN        NaN        NaN        NaN   \n",
       "\n",
       "   PM2.5.debi  Sample_Flow  Toluen       long       lat  \n",
       "0         NaN          NaN     NaN  35.290451  37.21336  \n",
       "1         NaN          NaN     NaN  35.290451  37.21336  \n",
       "2         NaN          NaN     NaN  35.290451  37.21336  \n",
       "3         NaN          NaN     NaN  35.290451  37.21336  \n",
       "4         NaN          NaN     NaN  35.290451  37.21336  \n",
       "\n",
       "[5 rows x 29 columns]"
      ]
     },
     "execution_count": 4,
     "metadata": {},
     "output_type": "execute_result"
    }
   ],
   "source": [
    "df.head()"
   ]
  },
  {
   "cell_type": "markdown",
   "metadata": {},
   "source": [
    "### Veri Düzenleme ve Temizleme"
   ]
  },
  {
   "cell_type": "code",
   "execution_count": 5,
   "metadata": {},
   "outputs": [],
   "source": [
    "df = df.join(df['Mevki'].str.split(' ', 1, expand=True).rename(columns={0:'City', 1:'District'}))"
   ]
  },
  {
   "cell_type": "code",
   "execution_count": 6,
   "metadata": {},
   "outputs": [],
   "source": [
    "df_sample = df[df[\"City\"].isin([\"ISTANBUL\", \"ANKARA\", \"IZMIR\", \"ANTALYA\"])]"
   ]
  },
  {
   "cell_type": "code",
   "execution_count": 7,
   "metadata": {},
   "outputs": [
    {
     "data": {
      "text/plain": [
       "(2286477, 31)"
      ]
     },
     "execution_count": 7,
     "metadata": {},
     "output_type": "execute_result"
    }
   ],
   "source": [
    "df_sample.shape\n"
   ]
  },
  {
   "cell_type": "markdown",
   "metadata": {},
   "source": [
    "Yalnızca 4 il ile gözlem sayımız `2286477`'a düşüyor. Bunun yanında Mevki kolonunda bulunan il ve ilçe bilgisini ikiye böldük. Bunun amacı ile göre gruplama yapabilmektir."
   ]
  },
  {
   "cell_type": "code",
   "execution_count": 8,
   "metadata": {},
   "outputs": [],
   "source": [
    "df_sample = df_sample.join(df_sample['Tarih'].str.split(expand=True).rename(columns={0:'Day', 1:'Time'}))\n",
    "df_sample = df_sample[df_sample[\"Day\"] != \"Minimum\"]\n",
    "df_sample[\"Day\"] = df_sample['Day'].str.replace('/', '.')\n",
    "df_sample[\"date\"] = pd.to_datetime(df_sample[\"Day\"], format=\"%d.%m.%Y\")\n",
    "df_sample['date'] = df_sample['date'].apply(lambda x: x.strftime('%Y/%m') if not pd.isnull(x) else '')"
   ]
  },
  {
   "cell_type": "markdown",
   "metadata": {},
   "source": [
    "Yukarıdaki işlemle birlikte Tarih ve Saat bilgisi içeren değişken sadece Ay ve Yıl bilgisi içeren `date` değişkenine çevrildi. Bunun amacı yine gruplama yapmaktır."
   ]
  },
  {
   "cell_type": "code",
   "execution_count": 9,
   "metadata": {},
   "outputs": [
    {
     "data": {
      "text/plain": [
       "698419    2008/05\n",
       "Name: date, dtype: object"
      ]
     },
     "metadata": {},
     "output_type": "display_data"
    },
    {
     "data": {
      "text/plain": [
       "6061140    2017/03\n",
       "Name: date, dtype: object"
      ]
     },
     "execution_count": 9,
     "metadata": {},
     "output_type": "execute_result"
    }
   ],
   "source": [
    "display(df_sample[\"date\"].head(1))\n",
    "df_sample[\"date\"].tail(1)"
   ]
  },
  {
   "cell_type": "markdown",
   "metadata": {},
   "source": [
    "2018'in beşinci ayından 2017'in üçüncü ayına kadar bir zaman dilimini kapsamaktadır."
   ]
  },
  {
   "cell_type": "markdown",
   "metadata": {},
   "source": [
    "#### Değişken Seçimi ve Gruplama"
   ]
  },
  {
   "cell_type": "code",
   "execution_count": 10,
   "metadata": {},
   "outputs": [
    {
     "data": {
      "text/plain": [
       "Index(['Unnamed: 0', 'Mevki', 'Tarih', 'PM10', 'CO', 'NO', 'NO2', 'NOX', 'O3',\n",
       "       'PM2.5', 'Hava.Sicakligi', 'Ruzgar.Yönü', 'Ruzgar.Hizi', 'Bagil.Nem',\n",
       "       'Hava.Basinci', 'Kabin.Sicakligi', 'Benzen', 'Elektrik', 'Etillbenzene',\n",
       "       'Nem', 'Yagmur', 'o..Ksilen', 'p..Ksilen', 'PM10.debi', 'PM2.5.debi',\n",
       "       'Sample_Flow', 'Toluen', 'long', 'lat', 'City', 'District', 'Day',\n",
       "       'Time', 'date'],\n",
       "      dtype='object')"
      ]
     },
     "execution_count": 10,
     "metadata": {},
     "output_type": "execute_result"
    }
   ],
   "source": [
    "df_sample.columns"
   ]
  },
  {
   "cell_type": "markdown",
   "metadata": {},
   "source": [
    "Yukarıda halihazırdaki değişkenleri görüyoruz. Bunların arasından aşağıda belirtilen değişkenler seçilip bu andan itibaren tüm hesaplamalar bu değişkenlerle yapılacaktır."
   ]
  },
  {
   "cell_type": "code",
   "execution_count": 11,
   "metadata": {},
   "outputs": [],
   "source": [
    "columns = ['City','date','Hava.Sicakligi','PM10', 'NO', 'NO2', 'O3','Ruzgar.Hizi','Hava.Basinci']\n",
    "df_sample = df_sample.loc[:,columns]"
   ]
  },
  {
   "cell_type": "code",
   "execution_count": 12,
   "metadata": {},
   "outputs": [
    {
     "name": "stderr",
     "output_type": "stream",
     "text": [
      "/usr/local/lib/python3.7/site-packages/pandas/core/groupby/groupby.py:1062: RuntimeWarning: Mean of empty slice\n",
      "  f = lambda x: func(x, *args, **kwargs)\n"
     ]
    },
    {
     "data": {
      "text/html": [
       "<div>\n",
       "<style scoped>\n",
       "    .dataframe tbody tr th:only-of-type {\n",
       "        vertical-align: middle;\n",
       "    }\n",
       "\n",
       "    .dataframe tbody tr th {\n",
       "        vertical-align: top;\n",
       "    }\n",
       "\n",
       "    .dataframe thead th {\n",
       "        text-align: right;\n",
       "    }\n",
       "</style>\n",
       "<table border=\"1\" class=\"dataframe\">\n",
       "  <thead>\n",
       "    <tr style=\"text-align: right;\">\n",
       "      <th></th>\n",
       "      <th></th>\n",
       "      <th>Hava.Sicakligi</th>\n",
       "      <th>PM10</th>\n",
       "      <th>NO</th>\n",
       "      <th>NO2</th>\n",
       "      <th>O3</th>\n",
       "      <th>Ruzgar.Hizi</th>\n",
       "      <th>Hava.Basinci</th>\n",
       "    </tr>\n",
       "    <tr>\n",
       "      <th>City</th>\n",
       "      <th>date</th>\n",
       "      <th></th>\n",
       "      <th></th>\n",
       "      <th></th>\n",
       "      <th></th>\n",
       "      <th></th>\n",
       "      <th></th>\n",
       "      <th></th>\n",
       "    </tr>\n",
       "  </thead>\n",
       "  <tbody>\n",
       "    <tr>\n",
       "      <th rowspan=\"5\" valign=\"top\">ANKARA</th>\n",
       "      <th>2008/02</th>\n",
       "      <td>-0.955157</td>\n",
       "      <td>89.789238</td>\n",
       "      <td>NaN</td>\n",
       "      <td>NaN</td>\n",
       "      <td>NaN</td>\n",
       "      <td>0.991031</td>\n",
       "      <td>918.087444</td>\n",
       "    </tr>\n",
       "    <tr>\n",
       "      <th>2008/04</th>\n",
       "      <td>13.717546</td>\n",
       "      <td>119.306705</td>\n",
       "      <td>25.786885</td>\n",
       "      <td>30.152012</td>\n",
       "      <td>41.841270</td>\n",
       "      <td>1.368046</td>\n",
       "      <td>914.368046</td>\n",
       "    </tr>\n",
       "    <tr>\n",
       "      <th>2008/05</th>\n",
       "      <td>14.294416</td>\n",
       "      <td>1177.658206</td>\n",
       "      <td>17.742138</td>\n",
       "      <td>52.607966</td>\n",
       "      <td>53.458333</td>\n",
       "      <td>1.543147</td>\n",
       "      <td>906.159052</td>\n",
       "    </tr>\n",
       "    <tr>\n",
       "      <th>2008/06</th>\n",
       "      <td>19.750000</td>\n",
       "      <td>1607.035714</td>\n",
       "      <td>6.472222</td>\n",
       "      <td>39.944444</td>\n",
       "      <td>47.764706</td>\n",
       "      <td>1.839286</td>\n",
       "      <td>902.339286</td>\n",
       "    </tr>\n",
       "    <tr>\n",
       "      <th>2008/07</th>\n",
       "      <td>23.310680</td>\n",
       "      <td>43.852982</td>\n",
       "      <td>7.320611</td>\n",
       "      <td>41.804580</td>\n",
       "      <td>91.787879</td>\n",
       "      <td>1.244105</td>\n",
       "      <td>907.757282</td>\n",
       "    </tr>\n",
       "  </tbody>\n",
       "</table>\n",
       "</div>"
      ],
      "text/plain": [
       "                Hava.Sicakligi         PM10         NO        NO2         O3  \\\n",
       "City   date                                                                    \n",
       "ANKARA 2008/02       -0.955157    89.789238        NaN        NaN        NaN   \n",
       "       2008/04       13.717546   119.306705  25.786885  30.152012  41.841270   \n",
       "       2008/05       14.294416  1177.658206  17.742138  52.607966  53.458333   \n",
       "       2008/06       19.750000  1607.035714   6.472222  39.944444  47.764706   \n",
       "       2008/07       23.310680    43.852982   7.320611  41.804580  91.787879   \n",
       "\n",
       "                Ruzgar.Hizi  Hava.Basinci  \n",
       "City   date                                \n",
       "ANKARA 2008/02     0.991031    918.087444  \n",
       "       2008/04     1.368046    914.368046  \n",
       "       2008/05     1.543147    906.159052  \n",
       "       2008/06     1.839286    902.339286  \n",
       "       2008/07     1.244105    907.757282  "
      ]
     },
     "execution_count": 12,
     "metadata": {},
     "output_type": "execute_result"
    }
   ],
   "source": [
    "df_sample.groupby([\"City\",\"date\"]).aggregate(np.nanmean).head() # sadece 5 satır"
   ]
  },
  {
   "cell_type": "markdown",
   "metadata": {},
   "source": [
    "Yukarıdaki dataframe de sadece 5 satır gösterilmektedir ancak değişkenlerin aylık olarak ortalama değerlerini görebilmekteyiz.\n",
    "\n",
    "Bazı değişkenler için aylık olarak çok sayıda eksik veri görüyoruz. Eksik veri işlemleri alan bilgisi ve araştırma gerektirir. Özellikle bu eksikliğin rastsal olup olmadığı araştırılmalıdır. Ancak bu örnek için, ortalama değer ataması yapılacaktır."
   ]
  },
  {
   "cell_type": "code",
   "execution_count": 13,
   "metadata": {},
   "outputs": [],
   "source": [
    "summary = df_sample.groupby([\"City\",\"date\"]).aggregate(np.nanmean)"
   ]
  },
  {
   "cell_type": "code",
   "execution_count": 14,
   "metadata": {},
   "outputs": [],
   "source": [
    "summary = summary.reset_index(level=[\"City\",\"date\"]) # verinin son hali\n",
    "summary.to_csv(\"summary_data.csv\")"
   ]
  },
  {
   "cell_type": "markdown",
   "metadata": {},
   "source": [
    "##### Eksik Veri Atanması"
   ]
  },
  {
   "cell_type": "markdown",
   "metadata": {},
   "source": [
    "Bu yöntemin doğru olmadığının farkında olarak bu işlem yapılacaktır. Bunun en büyük problemlerden biri küçük bir ortalama atamasının böyle büyük bir veri setinde işlemsel maaliyetinin çok yüksek olması. Uzun süren bekleme süresini kısaltmak için böyle bir yol izlenmiştir."
   ]
  },
  {
   "cell_type": "code",
   "execution_count": 16,
   "metadata": {},
   "outputs": [],
   "source": [
    "summary = summary.fillna(summary.mean())"
   ]
  },
  {
   "cell_type": "markdown",
   "metadata": {},
   "source": [
    "# Matris İşlemleri\n",
    "\n",
    "Öncelikle veri setini Şehir ve Zaman bilgisinden ayırıp matris'e çeviriyoruz."
   ]
  },
  {
   "cell_type": "code",
   "execution_count": 48,
   "metadata": {},
   "outputs": [
    {
     "name": "stderr",
     "output_type": "stream",
     "text": [
      "/usr/local/lib/python3.7/site-packages/ipykernel_launcher.py:1: FutureWarning: Method .as_matrix will be removed in a future version. Use .values instead.\n",
      "  \"\"\"Entry point for launching an IPython kernel.\n"
     ]
    },
    {
     "data": {
      "text/plain": [
       "array([[  -0.95515695,   89.78923767,   42.58319298, ...,   35.07899354,\n",
       "           0.99103139,  918.08744395],\n",
       "       [  13.71754636,  119.30670471,   25.78688525, ...,   41.84126984,\n",
       "           1.36804565,  914.36804565],\n",
       "       [  14.29441624, 1177.65820643,   17.74213836, ...,   53.45833333,\n",
       "           1.54314721,  906.15905245],\n",
       "       ...,\n",
       "       [   6.64324324,   60.03626195,    8.15163607, ...,   35.07899354,\n",
       "           0.        , 1016.96081081],\n",
       "       [  10.90922619,   49.42457871,   13.09448819, ...,   35.07899354,\n",
       "           0.        , 1019.31696429],\n",
       "       [  13.96126761,   43.90598291,   11.61944778, ...,   35.07899354,\n",
       "           0.        , 1008.61619718]])"
      ]
     },
     "execution_count": 48,
     "metadata": {},
     "output_type": "execute_result"
    }
   ],
   "source": [
    "matrix = summary.drop([\"City\",\"date\"],axis=1).as_matrix()\n",
    "matrix"
   ]
  },
  {
   "cell_type": "code",
   "execution_count": 21,
   "metadata": {},
   "outputs": [
    {
     "data": {
      "text/plain": [
       "(459, 7)"
      ]
     },
     "execution_count": 21,
     "metadata": {},
     "output_type": "execute_result"
    }
   ],
   "source": [
    "matrix.shape #459x7 bir matrix"
   ]
  },
  {
   "cell_type": "code",
   "execution_count": 33,
   "metadata": {},
   "outputs": [],
   "source": [
    "row_n = matrix.shape[0]\n",
    "col_n = matrix.shape[1]"
   ]
  },
  {
   "cell_type": "markdown",
   "metadata": {},
   "source": [
    "### Ortalama"
   ]
  },
  {
   "cell_type": "code",
   "execution_count": 34,
   "metadata": {},
   "outputs": [
    {
     "data": {
      "text/plain": [
       "array([  8.91127718,  63.48467127,  42.58319298,  52.49717423,\n",
       "        35.07899354,  -7.37858231, 942.06456457])"
      ]
     },
     "execution_count": 34,
     "metadata": {},
     "output_type": "execute_result"
    }
   ],
   "source": [
    "mean_vector = np.dot(np.ones(row_n).T, matrix) / row_n\n",
    "mean_vector\n",
    "# matrix.mean(axis=0) otomatik ortalama bulmak için"
   ]
  },
  {
   "cell_type": "markdown",
   "metadata": {},
   "source": [
    "### Ortalamalardan Fark"
   ]
  },
  {
   "cell_type": "code",
   "execution_count": 49,
   "metadata": {},
   "outputs": [
    {
     "data": {
      "text/plain": [
       "array([[  -9.86643413,   26.3045664 ,    0.        , ...,    0.        ,\n",
       "           8.3696137 ,  -23.97712062],\n",
       "       [   4.80626918,   55.82203344,  -16.79630773, ...,    6.7622763 ,\n",
       "           8.74662796,  -27.69651892],\n",
       "       [   5.38313906, 1114.17353516,  -24.84105462, ...,   18.37933979,\n",
       "           8.92172952,  -35.90551211],\n",
       "       ...,\n",
       "       [  -2.26803394,   -3.44840931,  -34.43155691, ...,    0.        ,\n",
       "           7.37858231,   74.89624624],\n",
       "       [   1.99794901,  -14.06009256,  -29.48870479, ...,    0.        ,\n",
       "           7.37858231,   77.25239972],\n",
       "       [   5.04999043,  -19.57868836,  -30.9637452 , ...,    0.        ,\n",
       "           7.37858231,   66.55163262]])"
      ]
     },
     "execution_count": 49,
     "metadata": {},
     "output_type": "execute_result"
    }
   ],
   "source": [
    "xs = matrix - (np.ones((1,row_n)).T * mean_vector)\n",
    "xs"
   ]
  },
  {
   "cell_type": "markdown",
   "metadata": {},
   "source": [
    "### KÇÇT(SSCP)  "
   ]
  },
  {
   "cell_type": "code",
   "execution_count": 51,
   "metadata": {},
   "outputs": [
    {
     "data": {
      "text/plain": [
       "array([[  155536.59292382,    23068.1275879 ,   -28078.82712874,\n",
       "          -14122.20391751,    16538.67396751,    39189.05959727,\n",
       "          928534.80691558],\n",
       "       [   23068.1275879 ,  3839762.4034413 ,    20946.08876001,\n",
       "           25072.56745741,    24598.5030003 ,    19241.65220832,\n",
       "          101057.35559725],\n",
       "       [  -28078.82712874,    20946.08876001,   254330.80308383,\n",
       "          115545.86163446,   -64507.65563976,   -77495.42813636,\n",
       "            4827.33483217],\n",
       "       [  -14122.20391751,    25072.56745741,   115545.86163446,\n",
       "          122196.08854003,   -21533.66252417,   -36635.58340244,\n",
       "          -18332.33070238],\n",
       "       [   16538.67396751,    24598.5030003 ,   -64507.65563976,\n",
       "          -21533.66252417,   103900.82634884,    41680.96469965,\n",
       "            6950.67408596],\n",
       "       [   39189.05959727,    19241.65220832,   -77495.42813636,\n",
       "          -36635.58340244,    41680.96469965, 16637798.91497883,\n",
       "         -180427.89312411],\n",
       "       [  928534.80691558,   101057.35559725,     4827.33483217,\n",
       "          -18332.33070238,     6950.67408596,  -180427.89312411,\n",
       "         8116288.26618466]])"
      ]
     },
     "execution_count": 51,
     "metadata": {},
     "output_type": "execute_result"
    }
   ],
   "source": [
    "sscp = np.dot(xs.T, xs)\n",
    "sscp"
   ]
  },
  {
   "cell_type": "markdown",
   "metadata": {},
   "source": [
    "### Varyans - Covaryans Matrisi"
   ]
  },
  {
   "cell_type": "code",
   "execution_count": 63,
   "metadata": {},
   "outputs": [
    {
     "data": {
      "text/plain": [
       "array([[  339.59954787,    50.3670908 ,   -61.30748281,   -30.83450637,\n",
       "           36.11064185,    85.56563231,  2027.36857405],\n",
       "       [   50.3670908 ,  8383.7607062 ,    45.73381825,    54.74359707,\n",
       "           53.70852183,    42.01234107,   220.64924803],\n",
       "       [  -61.30748281,    45.73381825,   555.30743031,   252.28354069,\n",
       "         -140.84640969,  -169.20399156,    10.54003238],\n",
       "       [  -30.83450637,    54.74359707,   252.28354069,   266.80368677,\n",
       "          -47.0167304 ,   -79.99035677,   -40.02692293],\n",
       "       [   36.11064185,    53.70852183,  -140.84640969,   -47.0167304 ,\n",
       "          226.85769945,    91.00647314,    15.17614429],\n",
       "       [   85.56563231,    42.01234107,  -169.20399156,   -79.99035677,\n",
       "           91.00647314, 36327.07186677,  -393.9473649 ],\n",
       "       [ 2027.36857405,   220.64924803,    10.54003238,   -40.02692293,\n",
       "           15.17614429,  -393.9473649 , 17721.15341962]])"
      ]
     },
     "execution_count": 63,
     "metadata": {},
     "output_type": "execute_result"
    }
   ],
   "source": [
    "s = sscp / (row_n - 1)\n",
    "s\n",
    "# veya np.cov(matrix.T) "
   ]
  },
  {
   "cell_type": "markdown",
   "metadata": {},
   "source": [
    "### Korelasyon Matrisi"
   ]
  },
  {
   "cell_type": "code",
   "execution_count": 118,
   "metadata": {},
   "outputs": [
    {
     "data": {
      "text/plain": [
       "array([[0.05426458, 0.        , 0.        , 0.        , 0.        ,\n",
       "        0.        , 0.        ],\n",
       "       [0.        , 0.01092146, 0.        , 0.        , 0.        ,\n",
       "        0.        , 0.        ],\n",
       "       [0.        , 0.        , 0.04243588, 0.        , 0.        ,\n",
       "        0.        , 0.        ],\n",
       "       [0.        , 0.        , 0.        , 0.06122152, 0.        ,\n",
       "        0.        , 0.        ],\n",
       "       [0.        , 0.        , 0.        , 0.        , 0.06639314,\n",
       "        0.        , 0.        ],\n",
       "       [0.        , 0.        , 0.        , 0.        , 0.        ,\n",
       "        0.00524668, 0.        ],\n",
       "       [0.        , 0.        , 0.        , 0.        , 0.        ,\n",
       "        0.        , 0.00751197]])"
      ]
     },
     "execution_count": 118,
     "metadata": {},
     "output_type": "execute_result"
    }
   ],
   "source": [
    "d = s.diagonal().T * np.identity(7)\n",
    "d_sqrt_inv = (1 / np.sqrt(d).diagonal()).T * np.identity(7)\n",
    "d_sqrt_inv"
   ]
  },
  {
   "cell_type": "code",
   "execution_count": 246,
   "metadata": {},
   "outputs": [
    {
     "data": {
      "text/plain": [
       "array([[ 1.        ,  0.02984997, -0.14117675, -0.10243716,  0.13009928,\n",
       "         0.02436131,  0.82642447],\n",
       "       [ 0.02984997,  1.        ,  0.02119587,  0.03660311,  0.03894458,\n",
       "         0.00240737,  0.01810244],\n",
       "       [-0.14117675,  0.02119587,  1.        ,  0.65542992, -0.39682797,\n",
       "        -0.03767287,  0.00335992],\n",
       "       [-0.10243716,  0.03660311,  0.65542992,  1.        , -0.19110839,\n",
       "        -0.02569369, -0.01840816],\n",
       "       [ 0.13009928,  0.03894458, -0.39682797, -0.19110839,  1.        ,\n",
       "         0.03170154,  0.007569  ],\n",
       "       [ 0.02436131,  0.00240737, -0.03767287, -0.02569369,  0.03170154,\n",
       "         1.        , -0.01552662],\n",
       "       [ 0.82642447,  0.01810244,  0.00335992, -0.01840816,  0.007569  ,\n",
       "        -0.01552662,  1.        ]])"
      ]
     },
     "execution_count": 246,
     "metadata": {},
     "output_type": "execute_result"
    }
   ],
   "source": [
    "r = np.dot(np.dot(d_sqrt_inv, s), d_sqrt_inv)\n",
    "r"
   ]
  },
  {
   "cell_type": "markdown",
   "metadata": {},
   "source": [
    "Karşılaştırmak için ve yorum yapmak için bir dataframe fonskiyonu olan corr fonksiyonunu kullanarak da sonucu gösteriyoruz."
   ]
  },
  {
   "cell_type": "code",
   "execution_count": 130,
   "metadata": {},
   "outputs": [
    {
     "data": {
      "text/html": [
       "<div>\n",
       "<style scoped>\n",
       "    .dataframe tbody tr th:only-of-type {\n",
       "        vertical-align: middle;\n",
       "    }\n",
       "\n",
       "    .dataframe tbody tr th {\n",
       "        vertical-align: top;\n",
       "    }\n",
       "\n",
       "    .dataframe thead th {\n",
       "        text-align: right;\n",
       "    }\n",
       "</style>\n",
       "<table border=\"1\" class=\"dataframe\">\n",
       "  <thead>\n",
       "    <tr style=\"text-align: right;\">\n",
       "      <th></th>\n",
       "      <th>Hava.Sicakligi</th>\n",
       "      <th>PM10</th>\n",
       "      <th>NO</th>\n",
       "      <th>NO2</th>\n",
       "      <th>O3</th>\n",
       "      <th>Ruzgar.Hizi</th>\n",
       "      <th>Hava.Basinci</th>\n",
       "    </tr>\n",
       "  </thead>\n",
       "  <tbody>\n",
       "    <tr>\n",
       "      <th>Hava.Sicakligi</th>\n",
       "      <td>1.000000</td>\n",
       "      <td>0.029850</td>\n",
       "      <td>-0.141177</td>\n",
       "      <td>-0.102437</td>\n",
       "      <td>0.130099</td>\n",
       "      <td>0.024361</td>\n",
       "      <td>0.826424</td>\n",
       "    </tr>\n",
       "    <tr>\n",
       "      <th>PM10</th>\n",
       "      <td>0.029850</td>\n",
       "      <td>1.000000</td>\n",
       "      <td>0.021196</td>\n",
       "      <td>0.036603</td>\n",
       "      <td>0.038945</td>\n",
       "      <td>0.002407</td>\n",
       "      <td>0.018102</td>\n",
       "    </tr>\n",
       "    <tr>\n",
       "      <th>NO</th>\n",
       "      <td>-0.141177</td>\n",
       "      <td>0.021196</td>\n",
       "      <td>1.000000</td>\n",
       "      <td>0.655430</td>\n",
       "      <td>-0.396828</td>\n",
       "      <td>-0.037673</td>\n",
       "      <td>0.003360</td>\n",
       "    </tr>\n",
       "    <tr>\n",
       "      <th>NO2</th>\n",
       "      <td>-0.102437</td>\n",
       "      <td>0.036603</td>\n",
       "      <td>0.655430</td>\n",
       "      <td>1.000000</td>\n",
       "      <td>-0.191108</td>\n",
       "      <td>-0.025694</td>\n",
       "      <td>-0.018408</td>\n",
       "    </tr>\n",
       "    <tr>\n",
       "      <th>O3</th>\n",
       "      <td>0.130099</td>\n",
       "      <td>0.038945</td>\n",
       "      <td>-0.396828</td>\n",
       "      <td>-0.191108</td>\n",
       "      <td>1.000000</td>\n",
       "      <td>0.031702</td>\n",
       "      <td>0.007569</td>\n",
       "    </tr>\n",
       "    <tr>\n",
       "      <th>Ruzgar.Hizi</th>\n",
       "      <td>0.024361</td>\n",
       "      <td>0.002407</td>\n",
       "      <td>-0.037673</td>\n",
       "      <td>-0.025694</td>\n",
       "      <td>0.031702</td>\n",
       "      <td>1.000000</td>\n",
       "      <td>-0.015527</td>\n",
       "    </tr>\n",
       "    <tr>\n",
       "      <th>Hava.Basinci</th>\n",
       "      <td>0.826424</td>\n",
       "      <td>0.018102</td>\n",
       "      <td>0.003360</td>\n",
       "      <td>-0.018408</td>\n",
       "      <td>0.007569</td>\n",
       "      <td>-0.015527</td>\n",
       "      <td>1.000000</td>\n",
       "    </tr>\n",
       "  </tbody>\n",
       "</table>\n",
       "</div>"
      ],
      "text/plain": [
       "                Hava.Sicakligi      PM10        NO       NO2        O3  \\\n",
       "Hava.Sicakligi        1.000000  0.029850 -0.141177 -0.102437  0.130099   \n",
       "PM10                  0.029850  1.000000  0.021196  0.036603  0.038945   \n",
       "NO                   -0.141177  0.021196  1.000000  0.655430 -0.396828   \n",
       "NO2                  -0.102437  0.036603  0.655430  1.000000 -0.191108   \n",
       "O3                    0.130099  0.038945 -0.396828 -0.191108  1.000000   \n",
       "Ruzgar.Hizi           0.024361  0.002407 -0.037673 -0.025694  0.031702   \n",
       "Hava.Basinci          0.826424  0.018102  0.003360 -0.018408  0.007569   \n",
       "\n",
       "                Ruzgar.Hizi  Hava.Basinci  \n",
       "Hava.Sicakligi     0.024361      0.826424  \n",
       "PM10               0.002407      0.018102  \n",
       "NO                -0.037673      0.003360  \n",
       "NO2               -0.025694     -0.018408  \n",
       "O3                 0.031702      0.007569  \n",
       "Ruzgar.Hizi        1.000000     -0.015527  \n",
       "Hava.Basinci      -0.015527      1.000000  "
      ]
     },
     "execution_count": 130,
     "metadata": {},
     "output_type": "execute_result"
    }
   ],
   "source": [
    "summary.drop([\"City\",\"date\"],axis=1).corr()"
   ]
  },
  {
   "cell_type": "markdown",
   "metadata": {},
   "source": [
    "Hava Basıncı ile Hava Sıcaklığı arasında çok güçlü pozitif bir korelasyon olduğunu görüyoruz. Bununla birlikte NO ve NO2 arasında güçlü diyebileceğimiz pozitif bir ilişki var. Bunun dışında değişkenler arasındaki korelasyon 0'a çok yakın.\n"
   ]
  },
  {
   "cell_type": "code",
   "execution_count": 245,
   "metadata": {},
   "outputs": [
    {
     "data": {
      "image/png": "[encoded data removed]",
      "text/plain": [
       "<Figure size 288x288 with 2 Axes>"
      ]
     },
     "metadata": {
      "needs_background": "light"
     },
     "output_type": "display_data"
    }
   ],
   "source": [
    "plt.matshow(summary.corr())\n",
    "plt.xticks(range(len(summary.columns)), df.columns)\n",
    "plt.yticks(range(len(summary.columns)), df.columns)\n",
    "plt.colorbar()\n",
    "plt.show()"
   ]
  },
  {
   "cell_type": "markdown",
   "metadata": {},
   "source": [
    "# Öz Değerler ve Vektörler"
   ]
  },
  {
   "cell_type": "code",
   "execution_count": 244,
   "metadata": {},
   "outputs": [
    {
     "data": {
      "text/plain": [
       "array([36336.72309037, 17952.03445732,  8379.46016354,   749.53846094,\n",
       "         198.56445955,    94.65101727,   109.58270801])"
      ]
     },
     "metadata": {},
     "output_type": "display_data"
    },
    {
     "data": {
      "text/plain": [
       "array([[ 0.00120782, -0.11447074, -0.00021775,  0.11196639,  0.15343105,\n",
       "        -0.96668617,  0.12780939],\n",
       "       [ 0.00133169, -0.02358384, -0.99965412,  0.00612682, -0.00955491,\n",
       "         0.00219029, -0.00016895],\n",
       "       [-0.00475995, -0.00001291, -0.00596029, -0.83353934,  0.0619402 ,\n",
       "        -0.15628828, -0.52620469],\n",
       "       [-0.00222942,  0.00247061, -0.00702796, -0.46649396,  0.44296183,\n",
       "         0.11603148,  0.75673274],\n",
       "       [ 0.00253549, -0.00126745, -0.0063788 ,  0.27345141,  0.88091373,\n",
       "         0.12325067, -0.36602715],\n",
       "       [ 0.99976071, -0.02068375,  0.00180235, -0.00614881, -0.00149075,\n",
       "         0.00270909, -0.00030358],\n",
       "       [-0.0210057 , -0.99292735,  0.0237219 , -0.01442456, -0.01745356,\n",
       "         0.11147046, -0.01236734]])"
      ]
     },
     "metadata": {},
     "output_type": "display_data"
    }
   ],
   "source": [
    "from numpy import linalg as LA\n",
    "w,v = LA.eig(s)\n",
    "display(w)\n",
    "display(v)"
   ]
  },
  {
   "cell_type": "markdown",
   "metadata": {},
   "source": [
    "## Genelleştirilmiş Varyans"
   ]
  },
  {
   "cell_type": "code",
   "execution_count": 248,
   "metadata": {},
   "outputs": [
    {
     "data": {
      "text/plain": [
       "8.43797488192896e+21"
      ]
     },
     "execution_count": 248,
     "metadata": {},
     "output_type": "execute_result"
    }
   ],
   "source": [
    "LA.det(s)"
   ]
  },
  {
   "cell_type": "markdown",
   "metadata": {},
   "source": [
    "# Çok Değişkenli Normal Dağılım ve Testi"
   ]
  },
  {
   "cell_type": "code",
   "execution_count": 141,
   "metadata": {},
   "outputs": [],
   "source": [
    "from mpl_toolkits import mplot3d\n",
    "import matplotlib.pyplot as plt\n",
    "from scipy.stats import multivariate_normal\n",
    "from scipy.spatial.distance import cdist\n",
    "import scipy as sp"
   ]
  },
  {
   "cell_type": "code",
   "execution_count": 179,
   "metadata": {},
   "outputs": [],
   "source": [
    "X = matrix[:,0]\n",
    "Y = matrix[:,6]\n",
    "X, Y = np.meshgrid(X, Y)\n",
    "pos = np.dstack((X, Y))\n",
    "mu = np.array([X.mean(), Y.mean()])\n",
    "cov = np.cov(matrix[:,[3,4]].T)\n",
    "rv = multivariate_normal(mu, cov)\n",
    "Z = rv.pdf(pos)"
   ]
  },
  {
   "cell_type": "code",
   "execution_count": 180,
   "metadata": {},
   "outputs": [
    {
     "data": {
      "image/png": "[encoded data removed]",
      "text/plain": [
       "<Figure size 432x288 with 1 Axes>"
      ]
     },
     "metadata": {
      "needs_background": "light"
     },
     "output_type": "display_data"
    }
   ],
   "source": [
    "fig = plt.figure()\n",
    "ax = fig.add_subplot(111, projection='3d')\n",
    "ax.contourf(X, Y, Z)\n",
    "fig.show()"
   ]
  },
  {
   "cell_type": "markdown",
   "metadata": {},
   "source": [
    "### Mahalanobis Distance"
   ]
  },
  {
   "cell_type": "code",
   "execution_count": 264,
   "metadata": {},
   "outputs": [],
   "source": [
    "mu = matrix.mean(axis=0).reshape(1, -1)\n",
    "s = np.cov(matrix.T)\n",
    "s_inv = sp.linalg.inv(s)\n"
   ]
  },
  {
   "cell_type": "code",
   "execution_count": 326,
   "metadata": {},
   "outputs": [
    {
     "name": "stdout",
     "output_type": "stream",
     "text": [
      "Q value using formula 169.51415877572637\n",
      "Chi Table Value 22.582016877596384\n",
      "Hypothesis will be above.\n"
     ]
    }
   ],
   "source": [
    "Q = np.dot(np.dot(mu, s_inv), mu.T)\n",
    "print(\"Q value using formula\", Q.item())\n",
    "from scipy.stats import chi\n",
    "print(\"Chi Table Value\", chi.ppf(q=1-0.05, df=row_n))\n",
    "print(\"Hypothesis will be above.\")"
   ]
  },
  {
   "cell_type": "markdown",
   "metadata": {},
   "source": [
    "### Hotelling Tˆ2 Anakütle testi\n",
    "Test etmek istediğimiz ortalamaların aşağıdaki gibi olduğunu varsayalım.\n",
    "$$\\mu_0 = \\Bigg[ 3, 42.9, 10, 20 ,34,  24, 12 \\Bigg]$$\n",
    "\n",
    "Formül olarak ise aşağıdaki gibidir.\n",
    "$$T^2 = n(\\bar{x} - \\mu_1)' S^{-1} (\\bar{x} - \\mu_1)$$\n"
   ]
  },
  {
   "cell_type": "code",
   "execution_count": 272,
   "metadata": {},
   "outputs": [
    {
     "data": {
      "text/plain": [
       "array([[  5.91127718,  20.58467127,  32.58319298,  32.49717423,\n",
       "          1.07899354, -31.37858231, 930.06456457]])"
      ]
     },
     "execution_count": 272,
     "metadata": {},
     "output_type": "execute_result"
    }
   ],
   "source": [
    "mu_0 = np.array([3, 42.9, 10, 20 ,34,  24, 12])\n",
    "diff = mu - mu_0\n",
    "diff"
   ]
  },
  {
   "cell_type": "code",
   "execution_count": 317,
   "metadata": {},
   "outputs": [
    {
     "data": {
      "text/plain": [
       "69116.13365806705"
      ]
     },
     "execution_count": 317,
     "metadata": {},
     "output_type": "execute_result"
    }
   ],
   "source": [
    "T_square = row_n * np.dot(np.dot(diff, s_inv), diff.T) \n",
    "T_square.item()"
   ]
  },
  {
   "cell_type": "code",
   "execution_count": 308,
   "metadata": {},
   "outputs": [
    {
     "name": "stdout",
     "output_type": "stream",
     "text": [
      "F critical value:  9744.383160775516\n",
      "F table value:  3.2397088416174404\n"
     ]
    }
   ],
   "source": [
    "F_cri = (T_square * ((row_n - col_n) / ((row_n - 1) * col_n))).item()\n",
    "print(\"F critical value: \", F_cri)\n",
    "from scipy.stats import f, chi\n",
    "print(\"F table value: \", f.ppf(q=1-0.05, dfn=(row_n-1), dfd=col_n))\n"
   ]
  },
  {
   "cell_type": "markdown",
   "metadata": {},
   "source": [
    "Kritik değer tablo değerinden büyük olduğu için H0'ı kabul edemeyiz."
   ]
  },
  {
   "cell_type": "markdown",
   "metadata": {},
   "source": [
    "## BOX M Testi\n",
    "\n",
    "Python için implementasyonu bulunmadığı için aşağıdaki fonksiyon kullanılmıştır.\n",
    "Fonksiyonun alındığı kaynak:https://stackoverflow.com/questions/42633083/how-to-perform-a-levenes-test-using-scipy\n",
    "\n",
    "Ancak bu fonksiyon iki matris istediğinden fonksiyonda değişiklikler yapılacaktır."
   ]
  },
  {
   "cell_type": "code",
   "execution_count": 337,
   "metadata": {},
   "outputs": [],
   "source": [
    "def box_m(X0):\n",
    "\n",
    "        global Xp\n",
    "        X1 = np.identity(7) # birim matrise cevrildi\n",
    "        m = 2\n",
    "        k = len(np.cov(X0))\n",
    "        n_1 = len(X0[0])\n",
    "        n_2 = len(X0[0])\n",
    "        n = len(X0[0])+len(X0[0])\n",
    "\n",
    "        Xp = ( ((n_1-1)*np.cov(X0)) + ((n_2-1)*X1) ) / (n-m)\n",
    "\n",
    "        M = ((n-m)*np.log(np.linalg.det(Xp))) \\\n",
    "         - (n_1-1)*(np.log(np.linalg.det(np.cov(X0)))) - (n_2-1)*(np.log(np.linalg.det(X1)))\n",
    "\n",
    "        c = ( ( 2*(k**2) + (3*k) - 1 ) / ( (6*(k+1)*(m-1)) ) ) \\\n",
    "            * ( (1/(n_1-1)) + (1/(n_2-1)) - (1/(n-m)) )\n",
    "\n",
    "        df = (k*(k+1)*(m-1))/2\n",
    "\n",
    "        c2 = ( ((k-1)*(k+2)) / (6*(m-1)) ) \\\n",
    "            * ( (1/((n_1-1)**2)) + (1/((n_2-1)**2)) - (1/((n-m)**2)) )\n",
    "\n",
    "        df2 = (df+2) / (np.abs(c2-c**2))\n",
    "\n",
    "        if (c2>c**2):\n",
    "\n",
    "            a_plus = df / (1-c-(df/df2))\n",
    "\n",
    "            F = M / a_plus\n",
    "\n",
    "        else:\n",
    "\n",
    "            a_minus = df2 / (1-c+(2/df2))\n",
    "\n",
    "            F = (df2*M) / (df*(a_minus-M))\n",
    "\n",
    "        print('M = {}'.format(M))\n",
    "        print('c = {}'.format(c))\n",
    "        print('c2 = {}'.format(c2))\n",
    "        print('-------------------')\n",
    "        print('df = {}'.format(df))\n",
    "        print('df2 = {}'.format(df2))\n",
    "        print('-------------------')\n",
    "        print('F = {}'.format(F))\n",
    "        print(\"F Table Value {}\".format(f.ppf(q=1-0.05, dfd=28, dfn=2923752)))"
   ]
  },
  {
   "cell_type": "markdown",
   "metadata": {},
   "source": [
    "$$H_0: S = I $$\n",
    "$$H_0: S \\neq I $$\n",
    "Varyans Kovaryans matrisimizin birim matrise eşit olup olmadığını test edeceğiz."
   ]
  },
  {
   "cell_type": "code",
   "execution_count": 338,
   "metadata": {},
   "outputs": [
    {
     "name": "stdout",
     "output_type": "stream",
     "text": [
      "M = 18702.5560022685\n",
      "c = 0.008051310043668122\n",
      "c2 = 7.508438054194237e-05\n",
      "-------------------\n",
      "df = 28.0\n",
      "df2 = 2923752.304900179\n",
      "-------------------\n",
      "F = 662.564171995325\n",
      "F Table Value 1.6540790477885248\n"
     ]
    }
   ],
   "source": [
    "box_m(matrix.T)"
   ]
  },
  {
   "cell_type": "markdown",
   "metadata": {},
   "source": [
    "# MANOVA"
   ]
  },
  {
   "cell_type": "code",
   "execution_count": 229,
   "metadata": {},
   "outputs": [],
   "source": [
    "from statsmodels.multivariate.manova import MANOVA"
   ]
  }
 ],
 "metadata": {
  "kernelspec": {
   "display_name": "Python 3",
   "language": "python",
   "name": "python3"
  },
  "language_info": {
   "codemirror_mode": {
    "name": "ipython",
    "version": 3
   },
   "file_extension": ".py",
   "mimetype": "text/x-python",
   "name": "python",
   "nbconvert_exporter": "python",
   "pygments_lexer": "ipython3",
   "version": "3.7.1"
  }
 },
 "nbformat": 4,
 "nbformat_minor": 2
}
